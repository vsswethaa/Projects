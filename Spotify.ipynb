{
  "nbformat": 4,
  "nbformat_minor": 0,
  "metadata": {
    "colab": {
      "provenance": [],
      "authorship_tag": "ABX9TyMRMI8sgvK81puk9bNBbfSq",
      "include_colab_link": true
    },
    "kernelspec": {
      "name": "python3",
      "display_name": "Python 3"
    },
    "language_info": {
      "name": "python"
    }
  },
  "cells": [
    {
      "cell_type": "markdown",
      "metadata": {
        "id": "view-in-github",
        "colab_type": "text"
      },
      "source": [
        "<a href=\"https://colab.research.google.com/github/vsswethaa/Projects/blob/main/Spotify.ipynb\" target=\"_parent\"><img src=\"https://colab.research.google.com/assets/colab-badge.svg\" alt=\"Open In Colab\"/></a>"
      ]
    },
    {
      "cell_type": "code",
      "execution_count": 13,
      "metadata": {
        "colab": {
          "base_uri": "https://localhost:8080/"
        },
        "id": "bzkRrm2V7sTl",
        "outputId": "4077a6b0-e553-4703-8ca4-8f8b63ccb908"
      },
      "outputs": [
        {
          "output_type": "stream",
          "name": "stdout",
          "text": [
            "Top 3 Recommended Songs for User 114:\n",
            "1. In the End\n",
            "2. Hound Dog\n",
            "3. Uptown Funk\n"
          ]
        }
      ],
      "source": [
        "import pandas as pd\n",
        "from sklearn.decomposition import TruncatedSVD\n",
        "from sklearn.preprocessing import LabelEncoder\n",
        "import numpy as np\n",
        "\n",
        "# Step 1: Load Dataset\n",
        "file_path = \"/content/generated_music_dataset.csv\"\n",
        "df = pd.read_csv(file_path)\n",
        "\n",
        "# Step 2: Preprocess Data\n",
        "df_filtered = df[['user_id', 'song', 'listen_count', 'liked', 'added_to_playlist']].copy()\n",
        "\n",
        "# Step 3: Create an interaction score\n",
        "df_filtered['interaction_score'] = df_filtered['listen_count'] + df_filtered['liked'] * 3 + df_filtered['added_to_playlist'] * 2\n",
        "\n",
        "# Step 4: Encode Categorical Variables\n",
        "user_encoder = LabelEncoder()\n",
        "song_encoder = LabelEncoder()\n",
        "\n",
        "df_filtered['user_encoded'] = user_encoder.fit_transform(df_filtered['user_id'])\n",
        "df_filtered['song_encoded'] = song_encoder.fit_transform(df_filtered['song'])\n",
        "\n",
        "# Step 5: Create User-Song Interaction Matrix\n",
        "interaction_matrix = df_filtered.pivot_table(index='user_encoded', columns='song_encoded', values='interaction_score', fill_value=0)\n",
        "\n",
        "# Step 6: Train SVD Model\n",
        "svd = TruncatedSVD(n_components=50, random_state=42)\n",
        "user_factors = svd.fit_transform(interaction_matrix)\n",
        "song_factors = svd.components_\n",
        "\n",
        "# Step 7: Define Recommendation Function\n",
        "def recommend_songs(user_id, n=3):\n",
        "    \"\"\" Recommend top N songs for a given user_id \"\"\"\n",
        "    if user_id not in user_encoder.classes_:\n",
        "        return []  # If the user is new, we can't recommend based on past data\n",
        "\n",
        "    user_idx = user_encoder.transform([user_id])[0]\n",
        "    scores = np.dot(user_factors[user_idx], song_factors)\n",
        "\n",
        "    # Get top N song indices\n",
        "    top_song_indices = np.argsort(scores)[::-1][:n]\n",
        "\n",
        "    # Decode song names\n",
        "    top_songs = song_encoder.inverse_transform(top_song_indices)\n",
        "\n",
        "    return list(top_songs)\n",
        "\n",
        "# Step 8: Get Recommendations for a User\n",
        "user_id_example = 114\n",
        "top_3_songs = recommend_songs(user_id_example)\n",
        "\n",
        "# Output the recommended songs\n",
        "print(f\"Top 3 Recommended Songs for User {user_id_example}:\")\n",
        "for idx, song in enumerate(top_3_songs, 1):\n",
        "    print(f\"{idx}. {song}\")\n"
      ]
    },
    {
      "cell_type": "code",
      "source": [
        "from sklearn.metrics import precision_score\n",
        "\n",
        "def precision_at_k(user_id, k=3):\n",
        "    \"\"\"Calculates Precision@K for a given user_id\"\"\"\n",
        "    if user_id not in user_encoder.classes_:\n",
        "        return 0  # No recommendations possible\n",
        "\n",
        "    actual_songs = df_filtered[df_filtered['user_id'] == user_id]['song'].tolist()\n",
        "    recommended_songs = recommend_songs(user_id, k)\n",
        "\n",
        "    if not recommended_songs:\n",
        "        return 0  # No recommendations available\n",
        "\n",
        "    relevant_count = sum(1 for song in recommended_songs if song in actual_songs)\n",
        "    return relevant_count / k  # Precision = Relevant Recommendations / K\n",
        "\n",
        "# Example usage\n",
        "user_id_example = 113\n",
        "precision = precision_at_k(user_id_example, k=3)\n",
        "print(f\"Precision@3: {precision:.2f}\")\n"
      ],
      "metadata": {
        "colab": {
          "base_uri": "https://localhost:8080/"
        },
        "id": "jlIIf1NILSvJ",
        "outputId": "cfb1c5ff-7213-44c6-89ea-aba861290203"
      },
      "execution_count": 10,
      "outputs": [
        {
          "output_type": "stream",
          "name": "stdout",
          "text": [
            "Precision@3: 1.00\n"
          ]
        }
      ]
    },
    {
      "cell_type": "code",
      "source": [
        "def recall_at_k(user_id, k=3):\n",
        "    \"\"\"Calculates Recall@K for a given user_id\"\"\"\n",
        "    if user_id not in user_encoder.classes_:\n",
        "        return 0  # No recommendations possible\n",
        "\n",
        "    actual_songs = df_filtered[df_filtered['user_id'] == user_id]['song'].tolist()\n",
        "    recommended_songs = recommend_songs(user_id, k)\n",
        "\n",
        "    if not actual_songs:\n",
        "        return 0  # No ground truth available\n",
        "\n",
        "    relevant_count = sum(1 for song in recommended_songs if song in actual_songs)\n",
        "    return relevant_count / len(actual_songs)\n",
        "\n",
        "# Example usage\n",
        "recall = recall_at_k(user_id_example, k=3)\n",
        "print(f\"Recall@3: {recall:.2f}\")\n"
      ],
      "metadata": {
        "colab": {
          "base_uri": "https://localhost:8080/"
        },
        "id": "YtXUVNUCLVbl",
        "outputId": "51b8babd-4199-418f-fd82-2e6cae4839dc"
      },
      "execution_count": 11,
      "outputs": [
        {
          "output_type": "stream",
          "name": "stdout",
          "text": [
            "Recall@3: 0.30\n"
          ]
        }
      ]
    },
    {
      "cell_type": "code",
      "source": [
        "def dcg_at_k(scores, k):\n",
        "    \"\"\"Computes Discounted Cumulative Gain (DCG)\"\"\"\n",
        "    return sum((score / np.log2(idx + 2)) for idx, score in enumerate(scores[:k]))\n",
        "\n",
        "def ndcg_at_k(user_id, k=3):\n",
        "    \"\"\"Computes Normalized DCG@K\"\"\"\n",
        "    if user_id not in user_encoder.classes_:\n",
        "        return 0  # No recommendations possible\n",
        "\n",
        "    actual_songs = df_filtered[df_filtered['user_id'] == user_id]['song'].tolist()\n",
        "    recommended_songs = recommend_songs(user_id, k)\n",
        "\n",
        "    relevance = [1 if song in actual_songs else 0 for song in recommended_songs]\n",
        "    ideal_relevance = sorted(relevance, reverse=True)  # Best possible ranking\n",
        "\n",
        "    dcg = dcg_at_k(relevance, k)\n",
        "    idcg = dcg_at_k(ideal_relevance, k)\n",
        "\n",
        "    return dcg / idcg if idcg > 0 else 0  # Normalize\n",
        "\n",
        "# Example usage\n",
        "ndcg = ndcg_at_k(user_id_example, k=3)\n",
        "print(f\"NDCG@3: {ndcg:.2f}\")\n"
      ],
      "metadata": {
        "colab": {
          "base_uri": "https://localhost:8080/"
        },
        "id": "2haGiO7n74Vz",
        "outputId": "61cc71c7-0a8a-4c23-b2d2-9d11c12e753f"
      },
      "execution_count": 12,
      "outputs": [
        {
          "output_type": "stream",
          "name": "stdout",
          "text": [
            "NDCG@3: 1.00\n"
          ]
        }
      ]
    }
  ]
}